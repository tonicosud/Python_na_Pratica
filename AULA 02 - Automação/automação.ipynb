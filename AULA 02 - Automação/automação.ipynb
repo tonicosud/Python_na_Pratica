{
 "cells": [
  {
   "cell_type": "markdown",
   "metadata": {},
   "source": [
    "# Problema\n",
    "\n",
    "- Buscar dados de valores das ações\n",
    "- Criar as análises solicitadas pelo gestor\n",
    "- Enviar um e-mail com os resultados das análises"
   ]
  },
  {
   "cell_type": "markdown",
   "metadata": {},
   "source": [
    "## Passo 1 - Buscar dados"
   ]
  },
  {
   "cell_type": "code",
   "execution_count": null,
   "metadata": {},
   "outputs": [],
   "source": [
    "# Executa o comando abaixo apenas 1 vez, depois de instalado basta importar\n",
    "!pip install yfinance"
   ]
  },
  {
   "cell_type": "code",
   "execution_count": null,
   "metadata": {},
   "outputs": [],
   "source": [
    "import yfinance"
   ]
  },
  {
   "cell_type": "code",
   "execution_count": 15,
   "metadata": {},
   "outputs": [
    {
     "name": "stdout",
     "output_type": "stream",
     "text": [
      "Digite o código da ação: PETR4.SA\n"
     ]
    }
   ],
   "source": [
    "# informar o código da ação \n",
    "ticker = input(\"Digite o código da ação: \")\n",
    "dados = yfinance.Ticker(ticker).history(\"6mo\")"
   ]
  },
  {
   "cell_type": "code",
   "execution_count": 17,
   "metadata": {},
   "outputs": [
    {
     "data": {
      "text/plain": [
       "<matplotlib.axes._subplots.AxesSubplot at 0x11386780>"
      ]
     },
     "execution_count": 17,
     "metadata": {},
     "output_type": "execute_result"
    },
    {
     "data": {
      "image/png": "[encoded data removed]",
      "text/plain": [
       "<Figure size 432x288 with 1 Axes>"
      ]
     },
     "metadata": {
      "needs_background": "light"
     },
     "output_type": "display_data"
    }
   ],
   "source": [
    "# Pega os dados da coluna close e plota num grafico\n",
    "fechamento = dados.Close\n",
    "fechamento.plot()"
   ]
  },
  {
   "cell_type": "markdown",
   "metadata": {},
   "source": [
    "## Passo 2 - Criar análises\n",
    "\n",
    "- Cotação máxima\n",
    "- Cotação mínima\n",
    "- Cotação atual"
   ]
  },
  {
   "cell_type": "code",
   "execution_count": 26,
   "metadata": {},
   "outputs": [
    {
     "name": "stdout",
     "output_type": "stream",
     "text": [
      "máxima: 33.003028869628906  mínima:  21.469999313354492 atual:  25.290000915527344\n"
     ]
    }
   ],
   "source": [
    "# Busca dentro da coluna retornada (close nesse caso) e pega as cotações escolhidas como máxima, mínima e a atual\n",
    "maxima = fechamento.max()\n",
    "minima = fechamento.min()\n",
    "atual = fechamento[-1]"
   ]
  },
  {
   "cell_type": "markdown",
   "metadata": {},
   "source": [
    "## Passo 3 envio de e-mail\n",
    "\n",
    "- Abrir uma nova aba e digitar o endereço do gmail\n",
    "- Clicar no botão Escrever\n",
    "- Preencher o destinatário\n",
    "- Preencher o assunto\n",
    "- Escrever o e-mail com os resultados da análise\n",
    "- clicar em enviar"
   ]
  },
  {
   "cell_type": "code",
   "execution_count": null,
   "metadata": {},
   "outputs": [],
   "source": [
    "# Executa o comando abaixo apenas 1 vez, depois de instalado basta importar\n",
    "!pip install pyautogui\n",
    "!pip install pyperclip"
   ]
  },
  {
   "cell_type": "code",
   "execution_count": 28,
   "metadata": {},
   "outputs": [],
   "source": [
    "import pyautogui\n",
    "import pyperclip"
   ]
  },
  {
   "cell_type": "code",
   "execution_count": 49,
   "metadata": {},
   "outputs": [],
   "source": [
    "pyautogui.PAUSE = 2\n",
    "\n",
    "pyautogui.hotkey(\"ctrl\", \"t\")\n",
    "pyperclip.copy(\"www.gmail.com\")\n",
    "pyautogui.hotkey(\"ctrl\", \"v\")\n",
    "pyautogui.hotkey(\"enter\")\n",
    "\n",
    "import time\n",
    "time.sleep(5)\n",
    "pyautogui.click(x=69, y=202)\n",
    "\n",
    "pyperclip.copy(\"email do destinatário\")\n",
    "pyautogui.hotkey(\"ctrl\", \"v\")\n",
    "pyautogui.hotkey(\"TAB\")\n",
    "\n",
    "pyperclip.copy(\"Análises diárias\")\n",
    "pyautogui.hotkey(\"ctrl\", \"v\")\n",
    "pyautogui.hotkey(\"TAB\")\n",
    "\n",
    "mensagem = f\"\"\"\n",
    "Prezado Gestor,\n",
    "\n",
    "Seguem as análises dos últimos seis meses da ação {ticker}:\n",
    "\n",
    "Cotação máxima: R$ {round(maxima, 2)}\n",
    "Cotação mínima: R$ {round(minima, 2)}\n",
    "Cotação atual:  R$ {round(atual, 2)}\n",
    "\n",
    "Qualquer dúvida, estou à disposição!\n",
    "\n",
    "Att.\n",
    "\"\"\"\n",
    "\n",
    "pyperclip.copy(mensagem)\n",
    "pyautogui.hotkey(\"ctrl\", \"v\")\n",
    "\n",
    "pyautogui.click(x=850, y=701)"
   ]
  },
  {
   "cell_type": "code",
   "execution_count": 45,
   "metadata": {},
   "outputs": [
    {
     "data": {
      "text/plain": [
       "Point(x=850, y=701)"
      ]
     },
     "execution_count": 45,
     "metadata": {},
     "output_type": "execute_result"
    }
   ],
   "source": [
    "#Para descobrir a posição na tela basta usar os comandos abaixo\n",
    "\n",
    "import time \n",
    "\n",
    "time.sleep(5) # 5 representa o tempo que será aguardado antes do proximo comando, então da tempo de posicionar o mouse\n",
    "pyautogui.position() # aqui o pyautogui vai retornar a posição x e y do mouse, que será usada com o pyautogui.click(x=,y=)\n"
   ]
  }
 ],
 "metadata": {
  "kernelspec": {
   "display_name": "Python 3",
   "language": "python",
   "name": "python3"
  },
  "language_info": {
   "codemirror_mode": {
    "name": "ipython",
    "version": 3
   },
   "file_extension": ".py",
   "mimetype": "text/x-python",
   "name": "python",
   "nbconvert_exporter": "python",
   "pygments_lexer": "ipython3",
   "version": "3.7.3"
  }
 },
 "nbformat": 4,
 "nbformat_minor": 2
}
